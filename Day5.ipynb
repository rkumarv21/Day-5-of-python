{
 "cells": [
  {
   "cell_type": "markdown",
   "id": "5692dfa9",
   "metadata": {},
   "source": [
    "## Day5"
   ]
  },
  {
   "cell_type": "markdown",
   "id": "4f02b5a4",
   "metadata": {},
   "source": [
    "#### Loops"
   ]
  },
  {
   "cell_type": "code",
   "execution_count": 4,
   "id": "b29928b6",
   "metadata": {},
   "outputs": [
    {
     "name": "stdout",
     "output_type": "stream",
     "text": [
      "Apple\n",
      "Apple wow\n",
      "Banana\n",
      "Banana wow\n",
      "Grapes\n",
      "Grapes wow\n",
      "['Apple', 'Banana', 'Grapes']\n"
     ]
    }
   ],
   "source": [
    "Fruits = ['Apple','Banana','Grapes']\n",
    "for Fruit in Fruits:\n",
    "    print(Fruit)  #here loop is running and printing the items of list one by one\n",
    "    print(Fruit + \" wow\")\n",
    "print(Fruits)  # here indentation is very important if we put indentation then it is inside the loop otherwise out side the loop"
   ]
  },
  {
   "cell_type": "markdown",
   "id": "516c28d5",
   "metadata": {},
   "source": [
    "##### exercise 5.1"
   ]
  },
  {
   "cell_type": "code",
   "execution_count": 23,
   "id": "32a8b892",
   "metadata": {},
   "outputs": [
    {
     "name": "stdout",
     "output_type": "stream",
     "text": [
      " enter the height of student in centimeter123 125 128 120 126 130\n",
      "[123, 125, 128, 120, 126, 130]\n",
      "752\n",
      "6\n",
      "125\n"
     ]
    }
   ],
   "source": [
    "# here we have to make a program to calculate average height of students\n",
    "students_height = input(\" enter the height of student in centimeter\").split()\n",
    "for n in range(0, len(students_height)):\n",
    "    students_height[n] = int(students_height[n])\n",
    "print(students_height)\n",
    "Total_height = 0\n",
    "iteration = 0\n",
    "for heights in students_height:\n",
    "    Total_height = Total_height + heights\n",
    "    iteration = iteration + 1\n",
    "print(Total_height)\n",
    "print(iteration)\n",
    "average_of_heights = round(Total_height/iteration)\n",
    "print(average_of_heights)"
   ]
  },
  {
   "cell_type": "markdown",
   "id": "892097eb",
   "metadata": {},
   "source": [
    "#### exercise 5.2"
   ]
  },
  {
   "cell_type": "code",
   "execution_count": 24,
   "id": "3892cf93",
   "metadata": {},
   "outputs": [
    {
     "name": "stdout",
     "output_type": "stream",
     "text": [
      "input the height of students123 125 128 120 126 130\n",
      "[123, 125, 128, 120, 126, 130]\n",
      "130\n"
     ]
    }
   ],
   "source": [
    "# in this exercise we have to create a program that find out the max height of the given students\n",
    "height_of_students = input(\"input the height of students\").split()\n",
    "for n in range(0, len(height_of_students)):\n",
    "    height_of_students[n] = int(height_of_students[n])\n",
    "print(height_of_students)\n",
    "tallest = 0\n",
    "for height in height_of_students:\n",
    "    if height > tallest:\n",
    "        tallest = height\n",
    "print(tallest)"
   ]
  },
  {
   "cell_type": "markdown",
   "id": "edd6f0d9",
   "metadata": {},
   "source": [
    "#### for loop with range()"
   ]
  },
  {
   "cell_type": "code",
   "execution_count": 26,
   "id": "9b7e0eb9",
   "metadata": {},
   "outputs": [
    {
     "name": "stdout",
     "output_type": "stream",
     "text": [
      "1\n",
      "2\n",
      "3\n",
      "4\n",
      "5\n",
      "6\n",
      "7\n",
      "8\n",
      "9\n",
      "10\n"
     ]
    }
   ],
   "source": [
    "#exaple\n",
    "for number in range(1,11):\n",
    "    print(number)"
   ]
  },
  {
   "cell_type": "markdown",
   "id": "f535e969",
   "metadata": {},
   "source": [
    "#### exercise 5.3"
   ]
  },
  {
   "cell_type": "code",
   "execution_count": 30,
   "id": "546a4b7e",
   "metadata": {},
   "outputs": [
    {
     "name": "stdout",
     "output_type": "stream",
     "text": [
      "2550\n"
     ]
    }
   ],
   "source": [
    "# here we have create a program to calculate the sum of even numbers from 1 to 100\n",
    "sum = 0\n",
    "for number in range(1, 101):\n",
    "    if number%2==0:\n",
    "        sum = sum + number\n",
    "print(sum)"
   ]
  },
  {
   "cell_type": "code",
   "execution_count": 35,
   "id": "ae121aca",
   "metadata": {},
   "outputs": [
    {
     "name": "stdout",
     "output_type": "stream",
     "text": [
      "2550\n"
     ]
    }
   ],
   "source": [
    "# another way of doing above exercise\n",
    "sum = 0\n",
    "for i in range(2,101,2):\n",
    "    sum += i\n",
    "print(sum)"
   ]
  },
  {
   "cell_type": "markdown",
   "id": "b7ca87d5",
   "metadata": {},
   "source": [
    "#### exercise 5.4"
   ]
  },
  {
   "cell_type": "code",
   "execution_count": 47,
   "id": "9ac1d1e0",
   "metadata": {},
   "outputs": [
    {
     "name": "stdout",
     "output_type": "stream",
     "text": [
      "1\n",
      "2\n",
      "fizz\n",
      "4\n",
      "buzz\n",
      "fizz\n",
      "7\n",
      "8\n",
      "fizz\n",
      "buzz\n",
      "11\n",
      "fizz\n",
      "13\n",
      "14\n",
      "fizzbuzz\n",
      "16\n",
      "17\n",
      "fizz\n",
      "19\n",
      "buzz\n"
     ]
    }
   ],
   "source": [
    "for i in range(1,21):\n",
    "    if i%3==0 and i%5==0:\n",
    "        i = \"fizzbuzz\"\n",
    "    elif i%5==0:\n",
    "        i = \"buzz\"\n",
    "    elif i%3==0:\n",
    "        i = 'fizz'\n",
    "    else:\n",
    "        i\n",
    "    print(i)\n",
    "    "
   ]
  },
  {
   "cell_type": "markdown",
   "id": "1ac52875",
   "metadata": {},
   "source": [
    "### project day 5"
   ]
  },
  {
   "cell_type": "code",
   "execution_count": 77,
   "id": "a1b7b447",
   "metadata": {},
   "outputs": [
    {
     "name": "stdout",
     "output_type": "stream",
     "text": [
      "Welcome to the PyPassword Generator!\n",
      "How many letters would you like in your password?\n",
      "4\n",
      "How many symbols would you like?\n",
      "3\n",
      "How many numbers would you like?\n",
      "3\n",
      "mpqq711&%*\n",
      "['5', '0', '6', '7', 'g', 'R', 'l', 'C', ')', '%', '!']\n",
      "['!', ')', '0', '6', 'C', 'g', '7', 'R', '%', '5', 'l']\n",
      "!)06Cg7R%5l\n"
     ]
    }
   ],
   "source": [
    "# here we have create a program to make a good password by using number, letters and spacial characters\n",
    "\n",
    "import random\n",
    "letters = ['a', 'b', 'c', 'd', 'e', 'f', 'g', 'h', 'i', 'j', 'k', 'l', 'm', 'n', 'o', 'p', 'q', 'r', 's', 't', 'u', 'v', 'w', 'x', 'y', 'z', 'A', 'B', 'C', 'D', 'E', 'F', 'G', 'H', 'I', 'J', 'K', 'L', 'M', 'N', 'O', 'P', 'Q', 'R', 'S', 'T', 'U', 'V', 'W', 'X', 'Y', 'Z']\n",
    "numbers = ['0', '1', '2', '3', '4', '5', '6', '7', '8', '9']\n",
    "symbols = ['!', '#', '$', '%', '&', '(', ')', '*', '+']\n",
    "print(\"Welcome to the PyPassword Generator!\")\n",
    "nr_letters= int(input(\"How many letters would you like in your password?\\n\")) \n",
    "nr_symbols = int(input(f\"How many symbols would you like?\\n\"))\n",
    "nr_numbers = int(input(f\"How many numbers would you like?\\n\"))\n",
    "\n",
    "# easy level means all the different type of characters will be in sequence\n",
    "password_str = ''\n",
    "for char in range(1, nr_letters+1):\n",
    "    rand_char = random.choice(letters)\n",
    "    password_str += rand_char\n",
    "for num in range(1, nr_numbers+1):\n",
    "    rand_num = random.choice(numbers)\n",
    "    password_str += rand_num\n",
    "for sym in range(1, nr_symbols+1):\n",
    "    rand_sym = random.choice(symbols)\n",
    "    password_str += rand_sym\n",
    "print(password_str)\n",
    "\n",
    "\n",
    "\n",
    "# tougher one in which all letters are shuffle\n",
    "password_list = []\n",
    "for num in range(1,nr_letters+1):\n",
    "    rand_number = random.choice(numbers)\n",
    "    password_list += rand_number\n",
    "for char in range(1, nr_letters+1):\n",
    "    rand_char = random.choice(letters)\n",
    "    password_list += rand_char\n",
    "for sym in range(1, nr_symbols+1):\n",
    "    rand_sym = random.choice(symbols)\n",
    "    password_list += rand_sym\n",
    "print(password_list)\n",
    "random.shuffle(password_list)\n",
    "print(password_list)\n",
    "password = ''\n",
    "# now conversion from list to string\n",
    "for char in password_list:\n",
    "    password = password+char\n",
    "print(password)\n"
   ]
  },
  {
   "cell_type": "code",
   "execution_count": 51,
   "id": "4f05741f",
   "metadata": {},
   "outputs": [],
   "source": [
    "\n",
    "import random\n",
    "rand  = random.randint(1,12)"
   ]
  },
  {
   "cell_type": "code",
   "execution_count": null,
   "id": "67e6a66d",
   "metadata": {},
   "outputs": [],
   "source": []
  }
 ],
 "metadata": {
  "kernelspec": {
   "display_name": "Python 3 (ipykernel)",
   "language": "python",
   "name": "python3"
  },
  "language_info": {
   "codemirror_mode": {
    "name": "ipython",
    "version": 3
   },
   "file_extension": ".py",
   "mimetype": "text/x-python",
   "name": "python",
   "nbconvert_exporter": "python",
   "pygments_lexer": "ipython3",
   "version": "3.9.7"
  }
 },
 "nbformat": 4,
 "nbformat_minor": 5
}
